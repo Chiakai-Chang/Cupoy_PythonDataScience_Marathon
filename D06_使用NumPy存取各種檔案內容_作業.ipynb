{
  "nbformat": 4,
  "nbformat_minor": 0,
  "metadata": {
    "colab": {
      "name": "D06_使用NumPy存取各種檔案內容_作業.ipynb",
      "provenance": [],
      "collapsed_sections": []
    },
    "kernelspec": {
      "name": "python3",
      "display_name": "Python 3"
    }
  },
  "cells": [
    {
      "cell_type": "code",
      "metadata": {
        "id": "jbkK8wprdbdY"
      },
      "source": [
        "import numpy as np"
      ],
      "execution_count": null,
      "outputs": []
    },
    {
      "cell_type": "markdown",
      "metadata": {
        "id": "YWb4mnd4fqAG"
      },
      "source": [
        "作業目標<br>\r\n",
        "讀取存取陣列資料<br>\r\n",
        "作業重點<br>\r\n",
        "多陣列存一起需要存成npz，讀取須注意npz中有多個陣列"
      ]
    },
    {
      "cell_type": "markdown",
      "metadata": {
        "id": "UXV4vW6IfsW6"
      },
      "source": [
        "題目:<br>\r\n",
        "1. 將下兩列array存成npz檔<br>\r\n",
        "array1 = np.array(range(30))<br>\r\n",
        "array2 = np.array([2,3,5])<br>\r\n",
        "2. 讀取剛剛的npz檔，加入下列array一起存成新的npz檔\r\n"
      ]
    },
    {
      "cell_type": "code",
      "metadata": {
        "id": "1mZQSUx_fry7"
      },
      "source": [
        "#. 將下兩列array存成npz檔\r\n",
        "array1 = np.array(range(30))\r\n",
        "array2 = np.array([2,3,5])\r\n",
        "with open('demo.npz', 'wb') as f:\r\n",
        "  np.savez(f, array1=array1, array2=array2)"
      ],
      "execution_count": null,
      "outputs": []
    },
    {
      "cell_type": "code",
      "metadata": {
        "id": "Ie1TGcssiIDN",
        "colab": {
          "base_uri": "https://localhost:8080/"
        },
        "outputId": "3848fa4a-5abb-4aaa-9f71-4149f8374e7a"
      },
      "source": [
        "#2. 讀取剛剛的npz檔，加入下列array一起存成新的npz檔\r\n",
        "arrays = []\r\n",
        "with np.load('demo.npz') as npzfile:\r\n",
        "  #print(f'npzfile.files = {npzfile.files}')\r\n",
        "  for file in npzfile.files:\r\n",
        "    arrays.append(npzfile[file])\r\n",
        "  #print(f'arrays = {arrays}')\r\n",
        "\r\n",
        "#加入新array\r\n",
        "with np.load('multi_array.npz') as npzfile:\r\n",
        "  #print(f'npzfile.files = {npzfile.files}')\r\n",
        "  for file in npzfile.files:\r\n",
        "    arrays.append(npzfile[file])\r\n",
        "  #print(f'arrays = {arrays}')\r\n",
        "\r\n",
        "arrays.append(np.genfromtxt(\"names.txt\", delimiter=\",\"))\r\n",
        "arrays.append(np.load(\"one_array.npy\"))\r\n",
        "arrays.append(np.genfromtxt(\"test.csv\", delimiter=\",\"))\r\n",
        "arrays.append(np.genfromtxt(\"test.gz\", delimiter=\",\"))\r\n",
        "arrays.append(np.load(\"test.npy\"))\r\n",
        "arrays.append(np.loadtxt(\"test.out\", delimiter=\",\"))\r\n",
        "def trans(s):\r\n",
        "  if s == b'Yes':\r\n",
        "    return 1\r\n",
        "  else:\r\n",
        "    return 0\r\n",
        "def conversion(x):\r\n",
        "  return float(x.strip(b\"%\"))/100\r\n",
        "arrays.append(np.genfromtxt(\"transform.txt\", delimiter=',', converters={2:trans, 3:conversion}))\r\n",
        "print(f'arrays = {arrays}')"
      ],
      "execution_count": 12,
      "outputs": [
        {
          "output_type": "stream",
          "text": [
            "arrays = [array([ 0,  1,  2,  3,  4,  5,  6,  7,  8,  9, 10, 11, 12, 13, 14, 15, 16,\n",
            "       17, 18, 19, 20, 21, 22, 23, 24, 25, 26, 27, 28, 29]), array([2, 3, 5]), array([0, 1, 2, 3, 4, 5, 6, 7, 8, 9]), array([1, 2, 3]), array([0.5788873 , 0.69082947, 0.04922545, 0.86517602, 0.29889969,\n",
            "       0.55285575, 0.69389689, 0.49183867, 0.8308363 , 0.06454569]), array([[nan, nan, nan],\n",
            "       [ 1.,  2.,  3.],\n",
            "       [ 4.,  5.,  6.],\n",
            "       [ 7.,  8.,  9.]]), array([1, 2], dtype=int32), array([[0., 1., 2., 3., 4.],\n",
            "       [5., 6., 7., 8., 9.]]), array([0., 1., 2., 3., 4.]), array([1, 2]), array([0., 1., 2., 3., 4.]), array([(1., 2., 1, 0.87), (3., 4., 0, 0.03), (5., 6., 1, 0.55)],\n",
            "      dtype=[('f0', '<f8'), ('f1', '<f8'), ('f2', '<i8'), ('f3', '<f8')])]\n"
          ],
          "name": "stdout"
        }
      ]
    },
    {
      "cell_type": "code",
      "metadata": {
        "colab": {
          "base_uri": "https://localhost:8080/"
        },
        "id": "ScECnUOPlncY",
        "outputId": "28add7e4-c9c6-41e3-e1cd-1a29a84688cc"
      },
      "source": [
        "#存成新的npz檔\r\n",
        "with open('demo.npz', 'wb') as f:\r\n",
        "  np.savez(f, *arrays)\r\n",
        "\r\n",
        "newArrays = np.load('demo.npz')\r\n",
        "newArrays.files"
      ],
      "execution_count": 15,
      "outputs": [
        {
          "output_type": "execute_result",
          "data": {
            "text/plain": [
              "['arr_0',\n",
              " 'arr_1',\n",
              " 'arr_2',\n",
              " 'arr_3',\n",
              " 'arr_4',\n",
              " 'arr_5',\n",
              " 'arr_6',\n",
              " 'arr_7',\n",
              " 'arr_8',\n",
              " 'arr_9',\n",
              " 'arr_10',\n",
              " 'arr_11']"
            ]
          },
          "metadata": {
            "tags": []
          },
          "execution_count": 15
        }
      ]
    }
  ]
}