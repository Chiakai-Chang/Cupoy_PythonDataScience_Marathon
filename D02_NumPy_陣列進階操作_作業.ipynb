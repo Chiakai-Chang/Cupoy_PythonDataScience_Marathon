{
  "nbformat": 4,
  "nbformat_minor": 0,
  "metadata": {
    "colab": {
      "name": "D02_NumPy_陣列進階操作_作業.ipynb",
      "provenance": [],
      "collapsed_sections": []
    },
    "kernelspec": {
      "name": "python3",
      "display_name": "Python 3"
    }
  },
  "cells": [
    {
      "cell_type": "markdown",
      "metadata": {
        "id": "CcQnaVToJoMC"
      },
      "source": [
        "作業目標<br>\r\n",
        "熟悉陣列維度轉換，並且會擷取需要資料<br>\r\n",
        "作業重點<br>\r\n",
        "使用reshap須注意order用法<br>\r\n",
        "where可以運用邏輯條件擷取資料"
      ]
    },
    {
      "cell_type": "markdown",
      "metadata": {
        "id": "JKtCM_7rJqUp"
      },
      "source": [
        "題目:<br>\r\n",
        "1.將下列陣列(array1)，轉成維度為(5X6)的array，順序按列填充。(hint:order=\"F\")<br>\r\n",
        "2.呈上題的array，找出被6除餘1的數的索引<br>"
      ]
    },
    {
      "cell_type": "code",
      "metadata": {
        "id": "9U3itXkFKqV4"
      },
      "source": [
        "import numpy as np"
      ],
      "execution_count": 1,
      "outputs": []
    },
    {
      "cell_type": "code",
      "metadata": {
        "id": "kLjyVid_JpIC",
        "colab": {
          "base_uri": "https://localhost:8080/"
        },
        "outputId": "dde40e17-7601-4717-e3a6-7ebea11abe9a"
      },
      "source": [
        "#1.將下列清單(list1)，轉成維度為(5X6)的array，順序按列填充。(hint:order=\"F\")\r\n",
        "array1 = np.array(range(30)).reshape(5,6,order='F')\r\n",
        "print(array1)"
      ],
      "execution_count": 2,
      "outputs": [
        {
          "output_type": "stream",
          "text": [
            "[[ 0  5 10 15 20 25]\n",
            " [ 1  6 11 16 21 26]\n",
            " [ 2  7 12 17 22 27]\n",
            " [ 3  8 13 18 23 28]\n",
            " [ 4  9 14 19 24 29]]\n"
          ],
          "name": "stdout"
        }
      ]
    },
    {
      "cell_type": "code",
      "metadata": {
        "id": "X1PZ16iqXWOe",
        "colab": {
          "base_uri": "https://localhost:8080/"
        },
        "outputId": "4b689a85-9807-4d45-a65a-3ab4f80da47c"
      },
      "source": [
        "#2.呈上題的array，找出被6除餘1的數的索引\r\n",
        "idx = np.where(array1 % 6 == 1)\r\n",
        "print(idx)"
      ],
      "execution_count": 3,
      "outputs": [
        {
          "output_type": "stream",
          "text": [
            "(array([0, 1, 2, 3, 4]), array([5, 0, 1, 2, 3]))\n"
          ],
          "name": "stdout"
        }
      ]
    }
  ]
}