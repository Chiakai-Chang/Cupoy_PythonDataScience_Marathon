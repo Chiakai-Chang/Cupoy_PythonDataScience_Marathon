{
  "nbformat": 4,
  "nbformat_minor": 0,
  "metadata": {
    "kernelspec": {
      "display_name": "Python 3",
      "language": "python",
      "name": "python3"
    },
    "language_info": {
      "codemirror_mode": {
        "name": "ipython",
        "version": 3
      },
      "file_extension": ".py",
      "mimetype": "text/x-python",
      "name": "python",
      "nbconvert_exporter": "python",
      "pygments_lexer": "ipython3",
      "version": "3.7.6"
    },
    "colab": {
      "name": "D20_使用Seaborn進行資料視覺化_作業.ipynb",
      "provenance": [],
      "collapsed_sections": []
    }
  },
  "cells": [
    {
      "cell_type": "markdown",
      "metadata": {
        "id": "2X0xWGxdzgeg"
      },
      "source": [
        "**主要目標:**\n",
        "    作業目標(1): 繪製模型殘差 圖型\n",
        "\n",
        "    更改初始值設定\n",
        "溫馨叮嚀: 不熟悉使用沒關係, 提出來, 有專家陪跑"
      ]
    },
    {
      "cell_type": "markdown",
      "metadata": {
        "id": "hQS6nhFj3DmX"
      },
      "source": [
        "# Seaborn圖樣式\n",
        "有五種預設seaborn主題：darkgrid，whitegrid，dark，white，和ticks。它們各自適合不同的應用和個人喜好。默認主題是darkgrid"
      ]
    },
    {
      "cell_type": "code",
      "metadata": {
        "id": "xSdq9M6N3DmY",
        "colab": {
          "base_uri": "https://localhost:8080/",
          "height": 342
        },
        "outputId": "b85dee4e-de11-4b2f-b800-4d0fa916222c"
      },
      "source": [
        "import numpy as np\n",
        "import seaborn as sns\n",
        "\n",
        "#設定圖形樣式 - whitegrid\n",
        "sns.set(style='whitegrid')\n",
        "\n",
        "# 利用 NUMPY 去建立資料集\n",
        "# np.random.RandomState 設定數學式\n",
        "rs = np.random.RandomState()\n",
        "x = rs.normal(2, 1, 75)\n",
        "y = 2 + 1.5 * x + rs.normal(0, 2, 75)\n",
        "\n",
        "# 畫圖\n",
        "sns.residplot(x, y)"
      ],
      "execution_count": 5,
      "outputs": [
        {
          "output_type": "stream",
          "text": [
            "/usr/local/lib/python3.6/dist-packages/seaborn/_decorators.py:43: FutureWarning: Pass the following variables as keyword args: x, y. From version 0.12, the only valid positional argument will be `data`, and passing other arguments without an explicit keyword will result in an error or misinterpretation.\n",
            "  FutureWarning\n"
          ],
          "name": "stderr"
        },
        {
          "output_type": "execute_result",
          "data": {
            "text/plain": [
              "<matplotlib.axes._subplots.AxesSubplot at 0x7f634d620d30>"
            ]
          },
          "metadata": {
            "tags": []
          },
          "execution_count": 5
        },
        {
          "output_type": "display_data",
          "data": {
            "image/png": "[encoded data removed]",
            "text/plain": [
              "<Figure size 432x288 with 1 Axes>"
            ]
          },
          "metadata": {
            "tags": []
          }
        }
      ]
    },
    {
      "cell_type": "markdown",
      "metadata": {
        "id": "W4wzEsUrkegZ"
      },
      "source": [
        "繪製單變數分佈: \n",
        "快速檢視海出生單變數分佈的最便捷方式是distplot() 函數。默認情況下,這將繪製直方圖並適合內核密度估計值(KDE)。"
      ]
    },
    {
      "cell_type": "markdown",
      "metadata": {
        "id": "gj86RGc6k0fV"
      },
      "source": [
        "作業目標(2)\n",
        "(1)使用 distplot()使用簡單的規則來正確猜測預設情況下正確的數位,但嘗試更多或更少的 bin 可能會顯示資料中的其他特徵:\n",
        "(2)有無kde對圖形分布的影響"
      ]
    },
    {
      "cell_type": "code",
      "metadata": {
        "id": "DunieTjAk3Ly",
        "colab": {
          "base_uri": "https://localhost:8080/",
          "height": 383
        },
        "outputId": "57b6b617-fc37-4f9e-9563-fe39949605bc"
      },
      "source": [
        "# bin: 指的是特徵值, \n",
        "# kde: on/off\n",
        "\n",
        "#sns.displot(x, kde=True)\n",
        "\n",
        "#sns.displot(x, bins=15, kde=True)\n",
        "\n",
        "#sns.displot(x, bins=10, kde=True)\n",
        "\n",
        "sns.displot(x, bins=5, kde=True)\n",
        "\n",
        "#sns.displot(x, bins=1, kde=True)"
      ],
      "execution_count": 12,
      "outputs": [
        {
          "output_type": "execute_result",
          "data": {
            "text/plain": [
              "<seaborn.axisgrid.FacetGrid at 0x7f633b4aca20>"
            ]
          },
          "metadata": {
            "tags": []
          },
          "execution_count": 12
        },
        {
          "output_type": "display_data",
          "data": {
            "image/png": "[encoded data removed]",
            "text/plain": [
              "<Figure size 360x360 with 1 Axes>"
            ]
          },
          "metadata": {
            "tags": []
          }
        }
      ]
    }
  ]
}