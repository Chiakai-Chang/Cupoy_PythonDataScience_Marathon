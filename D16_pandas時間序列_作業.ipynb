{
  "nbformat": 4,
  "nbformat_minor": 0,
  "metadata": {
    "colab": {
      "name": "D16_pandas時間序列_作業.ipynb",
      "provenance": [],
      "collapsed_sections": []
    },
    "kernelspec": {
      "name": "python3",
      "display_name": "Python 3"
    }
  },
  "cells": [
    {
      "cell_type": "markdown",
      "metadata": {
        "id": "b0CqLhJh2s7b"
      },
      "source": [
        "作業目標:<br>\r\n",
        "1. 熟悉時間序列資料運算\r\n",
        "2. 敘述統計量應用在時間序列資料上\r\n",
        "\r\n"
      ]
    },
    {
      "cell_type": "markdown",
      "metadata": {
        "id": "RVN7uazcbsex"
      },
      "source": [
        "作業重點:<br>\r\n",
        "1. 須注意時間的間隔問題，例如:一周、一年...\r\n",
        "2. 敘述統計量一樣可以應用在時間序列資料上"
      ]
    },
    {
      "cell_type": "markdown",
      "metadata": {
        "id": "xiYCa02a2vRm"
      },
      "source": [
        "題目 : 運下列時間序列資料做運算<br>\r\n",
        "\r\n",
        "\r\n",
        "```\r\n",
        "index = pd.date_range(\"1/1/2019\", periods=20, freq='D')\r\n",
        "series = pd.Series(range(20), index=index)\r\n",
        "```\r\n",
        "\r\n",
        "\r\n",
        "1. 將所有轉為周資料\r\n",
        "2. 將周資料的值取平均"
      ]
    },
    {
      "cell_type": "code",
      "metadata": {
        "colab": {
          "base_uri": "https://localhost:8080/"
        },
        "id": "1MMZgjdd2un2",
        "outputId": "44bb5f22-3538-4c10-e28e-b487ca42a6a9"
      },
      "source": [
        "import numpy as np\r\n",
        "import pandas as pd\r\n",
        "index = pd.date_range('1/1/2019', periods=20, freq='D')\r\n",
        "series = pd.Series(range(20), index=index)\r\n",
        "series"
      ],
      "execution_count": 1,
      "outputs": [
        {
          "output_type": "execute_result",
          "data": {
            "text/plain": [
              "2019-01-01     0\n",
              "2019-01-02     1\n",
              "2019-01-03     2\n",
              "2019-01-04     3\n",
              "2019-01-05     4\n",
              "2019-01-06     5\n",
              "2019-01-07     6\n",
              "2019-01-08     7\n",
              "2019-01-09     8\n",
              "2019-01-10     9\n",
              "2019-01-11    10\n",
              "2019-01-12    11\n",
              "2019-01-13    12\n",
              "2019-01-14    13\n",
              "2019-01-15    14\n",
              "2019-01-16    15\n",
              "2019-01-17    16\n",
              "2019-01-18    17\n",
              "2019-01-19    18\n",
              "2019-01-20    19\n",
              "Freq: D, dtype: int64"
            ]
          },
          "metadata": {
            "tags": []
          },
          "execution_count": 1
        }
      ]
    },
    {
      "cell_type": "code",
      "metadata": {
        "id": "tSR16Mk06ciP",
        "colab": {
          "base_uri": "https://localhost:8080/"
        },
        "outputId": "224bca87-cb49-4916-e84b-8fbb1e9f0efa"
      },
      "source": [
        "#1. 將所有轉為周資料\r\n",
        "series.to_period('w')"
      ],
      "execution_count": 5,
      "outputs": [
        {
          "output_type": "execute_result",
          "data": {
            "text/plain": [
              "2018-12-31/2019-01-06     0\n",
              "2018-12-31/2019-01-06     1\n",
              "2018-12-31/2019-01-06     2\n",
              "2018-12-31/2019-01-06     3\n",
              "2018-12-31/2019-01-06     4\n",
              "2018-12-31/2019-01-06     5\n",
              "2019-01-07/2019-01-13     6\n",
              "2019-01-07/2019-01-13     7\n",
              "2019-01-07/2019-01-13     8\n",
              "2019-01-07/2019-01-13     9\n",
              "2019-01-07/2019-01-13    10\n",
              "2019-01-07/2019-01-13    11\n",
              "2019-01-07/2019-01-13    12\n",
              "2019-01-14/2019-01-20    13\n",
              "2019-01-14/2019-01-20    14\n",
              "2019-01-14/2019-01-20    15\n",
              "2019-01-14/2019-01-20    16\n",
              "2019-01-14/2019-01-20    17\n",
              "2019-01-14/2019-01-20    18\n",
              "2019-01-14/2019-01-20    19\n",
              "Freq: W-SUN, dtype: int64"
            ]
          },
          "metadata": {
            "tags": []
          },
          "execution_count": 5
        }
      ]
    },
    {
      "cell_type": "code",
      "metadata": {
        "id": "9hQbh1yU5ZRf",
        "colab": {
          "base_uri": "https://localhost:8080/"
        },
        "outputId": "5533dc48-c080-4ea8-8257-d8227af963e5"
      },
      "source": [
        "#2. 將周資料的值取平均\r\n",
        "series.resample('w').mean()"
      ],
      "execution_count": 4,
      "outputs": [
        {
          "output_type": "execute_result",
          "data": {
            "text/plain": [
              "2019-01-06     2.5\n",
              "2019-01-13     9.0\n",
              "2019-01-20    16.0\n",
              "Freq: W-SUN, dtype: float64"
            ]
          },
          "metadata": {
            "tags": []
          },
          "execution_count": 4
        }
      ]
    },
    {
      "cell_type": "code",
      "metadata": {
        "id": "wGFAn8bhcUK6"
      },
      "source": [
        ""
      ],
      "execution_count": null,
      "outputs": []
    }
  ]
}