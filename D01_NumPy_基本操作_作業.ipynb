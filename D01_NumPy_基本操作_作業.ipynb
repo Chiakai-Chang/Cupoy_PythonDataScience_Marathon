{
  "nbformat": 4,
  "nbformat_minor": 0,
  "metadata": {
    "colab": {
      "name": "D01 NumPy 基本操作_作業.ipynb",
      "provenance": [],
      "collapsed_sections": []
    },
    "kernelspec": {
      "name": "python3",
      "display_name": "Python 3"
    }
  },
  "cells": [
    {
      "cell_type": "markdown",
      "metadata": {
        "id": "5aWZnhxBD2p2"
      },
      "source": [
        "作業目標:<br>\r\n",
        "在array中，可以靈活應用索引幫助資料擷取<br>\r\n",
        "作業重點:<br>\r\n",
        "陣列的索引、切片、以及屬性，皆需要注意使用方式<br>\r\n",
        "陣列之中索引式由0開始請同學注意"
      ]
    },
    {
      "cell_type": "markdown",
      "metadata": {
        "id": "Ec7jpEEnD4rj"
      },
      "source": [
        "題目:<br>\r\n",
        "1.生成一個等差數列，首數為0，尾數為20，公差為1的數列。<br>\r\n",
        "2.呈上題，將以上數列取出偶數。<br>\r\n",
        "3.呈1題，將數列取出3的倍數。<br>"
      ]
    },
    {
      "cell_type": "code",
      "metadata": {
        "id": "NfVTcwauD3rg"
      },
      "source": [
        "import numpy as np"
      ],
      "execution_count": 13,
      "outputs": []
    },
    {
      "cell_type": "code",
      "metadata": {
        "id": "QrOaxfmeEpvo",
        "colab": {
          "base_uri": "https://localhost:8080/"
        },
        "outputId": "25d4e759-d43c-4670-a5d1-beeb4ecb3c16"
      },
      "source": [
        "#1.生成一個等差數列，首數為0，尾數為20，公差為1的數列。\r\n",
        "ar = np.arange(0,21,1)\r\n",
        "print(ar)"
      ],
      "execution_count": 14,
      "outputs": [
        {
          "output_type": "stream",
          "text": [
            "[ 0  1  2  3  4  5  6  7  8  9 10 11 12 13 14 15 16 17 18 19 20]\n"
          ],
          "name": "stdout"
        }
      ]
    },
    {
      "cell_type": "code",
      "metadata": {
        "id": "5FFeFSvoEtRP",
        "colab": {
          "base_uri": "https://localhost:8080/"
        },
        "outputId": "2731ca34-bedb-41a2-ea3c-04aa69f83dd2"
      },
      "source": [
        "#2.呈上題，將以上數列取出偶數。\r\n",
        "ar_even = ar[::2]\r\n",
        "print(ar_even)"
      ],
      "execution_count": 15,
      "outputs": [
        {
          "output_type": "stream",
          "text": [
            "[ 0  2  4  6  8 10 12 14 16 18 20]\n"
          ],
          "name": "stdout"
        }
      ]
    },
    {
      "cell_type": "code",
      "metadata": {
        "id": "7-HcNGFsFD-_",
        "colab": {
          "base_uri": "https://localhost:8080/"
        },
        "outputId": "d90b848d-1854-4880-f5fe-03eb18710ad4"
      },
      "source": [
        "#3.呈1題，將數列取出3的倍數。\r\n",
        "ar_3 = ar[::3]\r\n",
        "print(ar_3)"
      ],
      "execution_count": 16,
      "outputs": [
        {
          "output_type": "stream",
          "text": [
            "[ 0  3  6  9 12 15 18]\n"
          ],
          "name": "stdout"
        }
      ]
    },
    {
      "cell_type": "code",
      "metadata": {
        "id": "6_6Emob-FHn3"
      },
      "source": [
        ""
      ],
      "execution_count": 16,
      "outputs": []
    }
  ]
}