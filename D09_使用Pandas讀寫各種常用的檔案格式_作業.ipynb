{
  "nbformat": 4,
  "nbformat_minor": 0,
  "metadata": {
    "kernelspec": {
      "display_name": "Python 3",
      "language": "python",
      "name": "python3"
    },
    "language_info": {
      "codemirror_mode": {
        "name": "ipython",
        "version": 3
      },
      "file_extension": ".py",
      "mimetype": "text/x-python",
      "name": "python",
      "nbconvert_exporter": "python",
      "pygments_lexer": "ipython3",
      "version": "3.6.8"
    },
    "colab": {
      "name": "D09_使用Pandas讀寫各種常用的檔案格式_作業.ipynb",
      "provenance": [],
      "collapsed_sections": []
    }
  },
  "cells": [
    {
      "cell_type": "markdown",
      "metadata": {
        "id": "C2qkILqtM8Wg"
      },
      "source": [
        "作業目標:<br>\r\n",
        "1.讀取各種檔案格式<br>\r\n",
        "2.輸出各種檔案格式<br>"
      ]
    },
    {
      "cell_type": "markdown",
      "metadata": {
        "id": "t47Sf6ejNLn7"
      },
      "source": [
        "作業重點:<br>\r\n",
        "1.不同檔案讀取方式皆不同，須了解檔案格式中的邏輯，例如:csv是以逗號分隔<br>\r\n",
        "2.讀取、輸出檔案的程式碼不同，須注意使用方式"
      ]
    },
    {
      "cell_type": "markdown",
      "metadata": {
        "id": "IabouywFNmI7"
      },
      "source": [
        "題目: <br>\r\n",
        "讀取資料夾中boston.csv讀取其欄位CHAS、NOX、RM，輸出成.xlsx檔案"
      ]
    },
    {
      "cell_type": "code",
      "metadata": {
        "id": "Rid6t1NoNrlB"
      },
      "source": [
        "import pandas as pd"
      ],
      "execution_count": 1,
      "outputs": []
    },
    {
      "cell_type": "code",
      "metadata": {
        "id": "YGXm3I0VMvSG",
        "colab": {
          "base_uri": "https://localhost:8080/"
        },
        "outputId": "486f6da6-b577-4099-963c-144f32445404"
      },
      "source": [
        "#讀取資料夾中boston.csv讀取其欄位CHAS、NOX、RM，輸出成.xlsx檔案\r\n",
        "df = pd.read_csv('boston.csv', usecols=['CHAS', 'NOX', 'RM'])\r\n",
        "print(df)\r\n",
        "df.to_excel('boston.xlsx')"
      ],
      "execution_count": 3,
      "outputs": [
        {
          "output_type": "stream",
          "text": [
            "     CHAS    NOX     RM\n",
            "0     0.0  0.538  6.575\n",
            "1     0.0  0.469  6.421\n",
            "2     0.0  0.469  7.185\n",
            "3     0.0  0.458  6.998\n",
            "4     0.0  0.458  7.147\n",
            "..    ...    ...    ...\n",
            "501   0.0  0.573  6.593\n",
            "502   0.0  0.573  6.120\n",
            "503   0.0  0.573  6.976\n",
            "504   0.0  0.573  6.794\n",
            "505   0.0  0.573  6.030\n",
            "\n",
            "[506 rows x 3 columns]\n"
          ],
          "name": "stdout"
        }
      ]
    },
    {
      "cell_type": "code",
      "metadata": {
        "id": "RkTGpcqfMvSH"
      },
      "source": [
        ""
      ],
      "execution_count": null,
      "outputs": []
    }
  ]
}