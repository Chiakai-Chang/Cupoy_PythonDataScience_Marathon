{
  "nbformat": 4,
  "nbformat_minor": 0,
  "metadata": {
    "colab": {
      "name": "D07_NumPy的矩陣函式與線性代數應用.ipynb",
      "provenance": [],
      "collapsed_sections": []
    },
    "kernelspec": {
      "name": "python3",
      "display_name": "Python 3"
    }
  },
  "cells": [
    {
      "cell_type": "code",
      "metadata": {
        "id": "g7_Zhb9Bif-K"
      },
      "source": [
        ""
      ],
      "execution_count": null,
      "outputs": []
    },
    {
      "cell_type": "markdown",
      "metadata": {
        "id": "GLhLqOtlj1fc"
      },
      "source": [
        "作業目標<br>\r\n",
        "活用矩陣運算，實做線性代數<br>\r\n",
        "作業重點<br>\r\n",
        "線性代數公式應用<br>\r\n",
        "矩陣相乘維度需要對好，例如:2X3矩陣乘上3X5矩陣得到2X5矩陣"
      ]
    },
    {
      "cell_type": "markdown",
      "metadata": {
        "id": "Rq6NRNxLj4w1"
      },
      "source": [
        "題目:<br>\r\n",
        "array1 = np.array([[10, 8], [3, 5]]) <br>\r\n",
        "1. 運用上列array計算反矩陣，乘上原矩陣，並觀察是否為單位矩陣?\r\n",
        "2. 運用上列array計算特徵值、特徵向量?\r\n",
        "3. 運用上列array計算SVD?"
      ]
    },
    {
      "cell_type": "code",
      "metadata": {
        "id": "YakNatIPj3CW"
      },
      "source": [
        "import numpy as np"
      ],
      "execution_count": 1,
      "outputs": []
    },
    {
      "cell_type": "code",
      "metadata": {
        "id": "QT4ntMV1kR1c",
        "colab": {
          "base_uri": "https://localhost:8080/"
        },
        "outputId": "d224afe3-144b-4e6e-c3b9-88b7b5d23b86"
      },
      "source": [
        "#1. 運用上列array計算反矩陣，乘上原矩陣，並觀察是否為單位矩陣?\r\n",
        "array1 = np.array([[10, 8], [3, 5]])\r\n",
        "array_inv = np.linalg.inv(array1) #反矩陣\r\n",
        "mul = np.matmul(array1, array_inv)\r\n",
        "print(f'mul =\\n{mul}')\r\n",
        "if np.all(mul == np.identity(mul.shape[0])):\r\n",
        "  print('array反矩陣乘上原矩陣，「是」單位矩陣!')\r\n",
        "else:\r\n",
        "  print('array反矩陣乘上原矩陣，「不是」單位矩陣!')"
      ],
      "execution_count": 14,
      "outputs": [
        {
          "output_type": "stream",
          "text": [
            "mul =\n",
            "[[1. 0.]\n",
            " [0. 1.]]\n",
            "array反矩陣乘上原矩陣，「是」單位矩陣!\n"
          ],
          "name": "stdout"
        }
      ]
    },
    {
      "cell_type": "code",
      "metadata": {
        "id": "9f7cVxwwk-y9",
        "colab": {
          "base_uri": "https://localhost:8080/"
        },
        "outputId": "2b45c864-ce34-4da2-897f-7a85c11da974"
      },
      "source": [
        "#2. 運用上列array計算特徵值、特徵向量?\r\n",
        "value, vector = np.linalg.eig(mul)\r\n",
        "print(f'特徵值為：{value}')\r\n",
        "print(f'特徵向量為：{vector}')"
      ],
      "execution_count": 16,
      "outputs": [
        {
          "output_type": "stream",
          "text": [
            "特徵值為：[1. 1.]\n",
            "特徵向量為：[[1. 0.]\n",
            " [0. 1.]]\n"
          ],
          "name": "stdout"
        }
      ]
    },
    {
      "cell_type": "code",
      "metadata": {
        "id": "OHSs5etxnL8D",
        "colab": {
          "base_uri": "https://localhost:8080/"
        },
        "outputId": "7ac9fa1c-de90-4d64-ed76-9a8549c96927"
      },
      "source": [
        "#3. 運用上列array計算SVD?\r\n",
        "U,sigma,VT = np.linalg.svd(mul)\r\n",
        "print(f'U = {U}')\r\n",
        "print(f'sigma = {sigma}')\r\n",
        "print(f'VT = {VT}')"
      ],
      "execution_count": 17,
      "outputs": [
        {
          "output_type": "stream",
          "text": [
            "U = [[1. 0.]\n",
            " [0. 1.]]\n",
            "sigma = [1. 1.]\n",
            "VT = [[1. 0.]\n",
            " [0. 1.]]\n"
          ],
          "name": "stdout"
        }
      ]
    },
    {
      "cell_type": "code",
      "metadata": {
        "id": "5BaVZFRvpXZo"
      },
      "source": [
        ""
      ],
      "execution_count": null,
      "outputs": []
    }
  ]
}