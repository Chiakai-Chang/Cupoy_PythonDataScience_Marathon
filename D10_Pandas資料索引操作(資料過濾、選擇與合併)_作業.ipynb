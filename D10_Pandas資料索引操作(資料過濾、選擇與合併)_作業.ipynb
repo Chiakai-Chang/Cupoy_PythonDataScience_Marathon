{
  "nbformat": 4,
  "nbformat_minor": 0,
  "metadata": {
    "kernelspec": {
      "display_name": "Python 3",
      "language": "python",
      "name": "python3"
    },
    "language_info": {
      "codemirror_mode": {
        "name": "ipython",
        "version": 3
      },
      "file_extension": ".py",
      "mimetype": "text/x-python",
      "name": "python",
      "nbconvert_exporter": "python",
      "pygments_lexer": "ipython3",
      "version": "3.6.8"
    },
    "colab": {
      "name": "D10_Pandas資料索引操作(資料過濾、選擇與合併)_作業.ipynb",
      "provenance": [],
      "collapsed_sections": []
    }
  },
  "cells": [
    {
      "cell_type": "markdown",
      "metadata": {
        "id": "Uf6dEaWpP3lo"
      },
      "source": [
        "作業目標:<br>\r\n",
        "1. 運用索引找出需要資料<br>\r\n",
        "2. 合併資料的分法應用"
      ]
    },
    {
      "cell_type": "markdown",
      "metadata": {
        "id": "3rP6NOVVQZuB"
      },
      "source": [
        "作業重點:<br>\r\n",
        "1. 分辨索引loc、iloc差別\r\n",
        "2. 分辨合併資料方法的不同，因應不同情況使用Merge, join, concatenate"
      ]
    },
    {
      "cell_type": "markdown",
      "metadata": {
        "id": "02Ld_89FP-4N"
      },
      "source": [
        "題目:<br>\r\n",
        "讀取STOCK_DAY_0050_202009.csv串聯STOCK_DAY_0050_202010.csv，並且找出open小於close的資料\r\n"
      ]
    },
    {
      "cell_type": "code",
      "metadata": {
        "id": "ysjY4kR5P4rA"
      },
      "source": [
        "import pandas as pd"
      ],
      "execution_count": 1,
      "outputs": []
    },
    {
      "cell_type": "code",
      "metadata": {
        "id": "hsEDbEogG4DG",
        "colab": {
          "base_uri": "https://localhost:8080/"
        },
        "outputId": "e60d876e-da0f-4e15-8bd5-cf971600b721"
      },
      "source": [
        "#讀取STOCK_DAY_0050_202009.csv、STOCK_DAY_0050_202010.csv\r\n",
        "df_09 = pd.read_csv('STOCK_DAY_0050_202009.csv')\r\n",
        "print('df_09.head() =')\r\n",
        "print(df_09.head())\r\n",
        "print('-'*30)\r\n",
        "df_10 = pd.read_csv('STOCK_DAY_0050_202010.csv')\r\n",
        "print('df_10.head() =')\r\n",
        "print(df_10.head())"
      ],
      "execution_count": 2,
      "outputs": [
        {
          "output_type": "stream",
          "text": [
            "df_09.head() =\n",
            "        date    open    high     low   close\n",
            "0  109/09/01  102.45  103.35  101.85  103.35\n",
            "1  109/09/02  103.65  104.05  102.30  103.00\n",
            "2  109/09/03  103.70  104.30  103.20  103.30\n",
            "3  109/09/04  102.00  102.70  101.90  102.55\n",
            "4  109/09/07  102.55  103.05  101.90  102.40\n",
            "------------------------------\n",
            "df_10.head() =\n",
            "        date    open    high     low   close\n",
            "0  109/10/05  103.45  104.05  103.00  103.05\n",
            "1  109/10/06  104.00  104.35  103.85  104.25\n",
            "2  109/10/07  104.00  105.00  103.50  104.80\n",
            "3  109/10/08  105.45  106.35  105.30  106.20\n",
            "4  109/10/12  106.70  107.70  106.70  107.05\n"
          ],
          "name": "stdout"
        }
      ]
    },
    {
      "cell_type": "code",
      "metadata": {
        "id": "cw3OMgQgG4DG",
        "colab": {
          "base_uri": "https://localhost:8080/"
        },
        "outputId": "3434f0d6-cbb2-4a19-c06c-4f5f5f6e53c4"
      },
      "source": [
        "#串聯\r\n",
        "print(f'len(df_09) = {len(df_09)}')\r\n",
        "df = df_09.append(df_10)\r\n",
        "print(f'len(df_10) = {len(df_10)}')\r\n",
        "print(f'len(df) = {len(df)}')\r\n",
        "print(df.head())"
      ],
      "execution_count": 3,
      "outputs": [
        {
          "output_type": "stream",
          "text": [
            "len(df_09) = 22\n",
            "len(df_10) = 19\n",
            "len(df) = 41\n",
            "        date    open    high     low   close\n",
            "0  109/09/01  102.45  103.35  101.85  103.35\n",
            "1  109/09/02  103.65  104.05  102.30  103.00\n",
            "2  109/09/03  103.70  104.30  103.20  103.30\n",
            "3  109/09/04  102.00  102.70  101.90  102.55\n",
            "4  109/09/07  102.55  103.05  101.90  102.40\n"
          ],
          "name": "stdout"
        }
      ]
    },
    {
      "cell_type": "code",
      "metadata": {
        "scrolled": true,
        "id": "LBBLV7TaG4DH",
        "colab": {
          "base_uri": "https://localhost:8080/"
        },
        "outputId": "f394678a-95b1-486d-a8b7-79d564197f70"
      },
      "source": [
        "#找出open小於close的資料\r\n",
        "data = df[df.open<df.close]\r\n",
        "print(data)"
      ],
      "execution_count": 4,
      "outputs": [
        {
          "output_type": "stream",
          "text": [
            "         date    open    high     low   close\n",
            "0   109/09/01  102.45  103.35  101.85  103.35\n",
            "3   109/09/04  102.00  102.70  101.90  102.55\n",
            "5   109/09/08  102.75  103.10  102.45  103.00\n",
            "6   109/09/09  101.75  102.35  101.15  102.30\n",
            "7   109/09/10  102.80  103.35  102.60  103.20\n",
            "8   109/09/11  103.20  103.35  102.80  103.25\n",
            "9   109/09/14  103.50  104.55  103.25  104.55\n",
            "10  109/09/15  104.45  105.20  104.25  104.95\n",
            "19  109/09/28  101.35  102.30  101.00  102.30\n",
            "21  109/09/30  102.75  103.45  102.60  103.00\n",
            "1   109/10/06  104.00  104.35  103.85  104.25\n",
            "2   109/10/07  104.00  105.00  103.50  104.80\n",
            "3   109/10/08  105.45  106.35  105.30  106.20\n",
            "4   109/10/12  106.70  107.70  106.70  107.05\n",
            "9   109/10/19  105.65  106.60  105.60  106.60\n",
            "12  109/10/22  105.70  106.10  105.50  106.10\n"
          ],
          "name": "stdout"
        }
      ]
    },
    {
      "cell_type": "code",
      "metadata": {
        "id": "tZaFA68VG4DH"
      },
      "source": [
        ""
      ],
      "execution_count": null,
      "outputs": []
    }
  ]
}