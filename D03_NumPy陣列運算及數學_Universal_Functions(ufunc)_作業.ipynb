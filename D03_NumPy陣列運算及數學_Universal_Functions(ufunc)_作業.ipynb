{
  "nbformat": 4,
  "nbformat_minor": 0,
  "metadata": {
    "colab": {
      "name": "D03_NumPy陣列運算及數學_Universal_Functions(ufunc)_作業.ipynb",
      "provenance": [],
      "collapsed_sections": []
    },
    "kernelspec": {
      "name": "python3",
      "display_name": "Python 3"
    }
  },
  "cells": [
    {
      "cell_type": "markdown",
      "metadata": {
        "id": "rY2oyzUo2wKZ"
      },
      "source": [
        "作業目標:<br>\r\n",
        "嘗試練習log的函式並應用<br>\r\n",
        "作業重點:<br>\r\n",
        "學員需要複習log的轉換方式<br>\r\n",
        "熟悉運用指數函數以及對數函數"
      ]
    },
    {
      "cell_type": "markdown",
      "metadata": {
        "id": "Esjhs7zz2y95"
      },
      "source": [
        "題目:<br>\r\n",
        "運用投影片中的分貝公式回答下列問題。<br>\r\n",
        "1.正常的談話的聲壓為20000微巴斯卡，請問多少分貝?<br>\r\n",
        "2.30分貝的聲壓會是50分貝的幾倍?\r\n"
      ]
    },
    {
      "cell_type": "code",
      "metadata": {
        "id": "SKVoN9E82yQi"
      },
      "source": [
        "import numpy as np"
      ],
      "execution_count": null,
      "outputs": []
    },
    {
      "cell_type": "code",
      "metadata": {
        "id": "knBzIEbisYO_",
        "colab": {
          "base_uri": "https://localhost:8080/"
        },
        "outputId": "8bd4e2fc-de8d-4f4b-8897-2d6545649143"
      },
      "source": [
        "#1.正常的談話的聲壓為20000微巴斯卡，請問多少分貝?\n",
        "#請寫下程式\n",
        "V1 = 20000\n",
        "V0 = 20\n",
        " \n",
        "gdb = 20 * np.log10(V1/V0)\n",
        "print(gdb)"
      ],
      "execution_count": null,
      "outputs": [
        {
          "output_type": "stream",
          "text": [
            "60.0\n"
          ],
          "name": "stdout"
        }
      ]
    },
    {
      "cell_type": "code",
      "metadata": {
        "id": "5Vknqg8esbl_",
        "colab": {
          "base_uri": "https://localhost:8080/"
        },
        "outputId": "33fc73e3-478d-4c32-b4e3-274f08ee7e14"
      },
      "source": [
        "#2.30分貝的聲壓會是50分貝的幾倍?\n",
        "#公式移項過後可以得到 V1 = ?\n",
        "#請寫下程式\n",
        "#V1 = 10**(gdb/20) * V0\n",
        "V1_30 = 10**(30/20) * 20\n",
        "V1_50 = 10**(50/20) * 20\n",
        " \n",
        "V1_30 / V1_50"
      ],
      "execution_count": null,
      "outputs": [
        {
          "output_type": "execute_result",
          "data": {
            "text/plain": [
              "0.09999999999999999"
            ]
          },
          "metadata": {
            "tags": []
          },
          "execution_count": 23
        }
      ]
    }
  ]
}