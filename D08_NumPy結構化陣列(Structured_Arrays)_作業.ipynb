{
  "nbformat": 4,
  "nbformat_minor": 0,
  "metadata": {
    "colab": {
      "name": "D08_NumPy結構化陣列(Structured Arrays)_作業.ipynb",
      "provenance": [],
      "collapsed_sections": []
    },
    "kernelspec": {
      "name": "python3",
      "display_name": "Python 3"
    }
  },
  "cells": [
    {
      "cell_type": "code",
      "metadata": {
        "id": "4klYNT34p73l"
      },
      "source": [
        ""
      ],
      "execution_count": null,
      "outputs": []
    },
    {
      "cell_type": "markdown",
      "metadata": {
        "id": "9qndwAG5UAKi"
      },
      "source": [
        "作業目標<br>\r\n",
        "在一個陣列中放入多屬性陣列，進一步對陣列做運算<br>\r\n",
        "作業重點<br>\r\n",
        "在建立結構化陣列前需要先設定屬性，在做運算時須注意資料屬性"
      ]
    },
    {
      "cell_type": "markdown",
      "metadata": {
        "id": "48DhzHvBUB2c"
      },
      "source": [
        "題目:<br>\r\n",
        "name_list = ['小明','小華','小菁','小美','小張','John','Mark','Tom']<br>\r\n",
        "sex_list = ['boy','boy','girl','girl','boy','boy','boy','boy']<br>\r\n",
        "weight_list = [67.5,75.3,50.1,45.5,80.8,90.4,78.4,70.7]<br>\r\n",
        "rank_list = [8,1,5,4,7,6,2,3]<br>\r\n",
        "myopia_list = [True,True,False,False,True,True,False,False]<br>\r\n",
        "1. 將上列list依照['name', 'sex', 'weight', 'rank', 'myopia']順序擺入array，並且資料型態順序擺入[Unicode,Unicode,float,int,boolean]<br>\r\n",
        "2. 呈上題，將array中體重(weight)數據集取出算出全部平均體重\r\n",
        "3. 呈上題，進一步算出男生(sex欄位是boy)平均體重、女生(sex欄位是girl)平均體重\r\n"
      ]
    },
    {
      "cell_type": "code",
      "metadata": {
        "id": "5n4rAx-9VgVr"
      },
      "source": [
        "import numpy as np "
      ],
      "execution_count": 1,
      "outputs": []
    },
    {
      "cell_type": "code",
      "metadata": {
        "id": "Vl-wSYQdUBcw"
      },
      "source": [
        "name_list = ['小明','小華','小菁','小美','小張','John','Mark','Tom']\r\n",
        "sex_list = ['boy','boy','girl','girl','boy','boy','boy','boy']\r\n",
        "weight_list = [67.5,75.3,50.1,45.5,80.8,90.4,78.4,70.7]\r\n",
        "rank_list = [8,1,5,4,7,6,2,3]\r\n",
        "myopia_list = [True,True,False,False,True,True,False,False]"
      ],
      "execution_count": 13,
      "outputs": []
    },
    {
      "cell_type": "code",
      "metadata": {
        "id": "ElavkYgwVftG",
        "colab": {
          "base_uri": "https://localhost:8080/"
        },
        "outputId": "84ad9e55-768c-4bc6-d4e8-31615b152d20"
      },
      "source": [
        "#1. 將上列list依照['name', 'sex', 'weight', 'rank', 'myopia']順序擺入array，並且資料型態順序擺入[Unicode,Unicode,float,int,boolean]\r\n",
        "dt = np.dtype({\r\n",
        "    'names': ('name', 'sex', 'weight', 'rank', 'myopia'), \r\n",
        "    'formats' : ('U5', 'U5', 'f', 'i', '?'), \r\n",
        "    })\r\n",
        "\r\n",
        "array = np.zeros(8, dtype=dt)\r\n",
        "print(array.dtype)\r\n",
        "\r\n",
        "array['name'] = name_list\r\n",
        "array['sex'] = sex_list\r\n",
        "array['weight'] = weight_list\r\n",
        "array['rank'] = rank_list\r\n",
        "array['myopia'] = myopia_list\r\n",
        "print(array)"
      ],
      "execution_count": 15,
      "outputs": [
        {
          "output_type": "stream",
          "text": [
            "[('name', '<U5'), ('sex', '<U5'), ('weight', '<f4'), ('rank', '<i4'), ('myopia', '?')]\n",
            "[('小明', 'boy', 67.5, 8,  True) ('小華', 'boy', 75.3, 1,  True)\n",
            " ('小菁', 'girl', 50.1, 5, False) ('小美', 'girl', 45.5, 4, False)\n",
            " ('小張', 'boy', 80.8, 7,  True) ('John', 'boy', 90.4, 6,  True)\n",
            " ('Mark', 'boy', 78.4, 2, False) ('Tom', 'boy', 70.7, 3, False)]\n"
          ],
          "name": "stdout"
        }
      ]
    },
    {
      "cell_type": "code",
      "metadata": {
        "id": "N-xffNSVWbP1",
        "colab": {
          "base_uri": "https://localhost:8080/"
        },
        "outputId": "73360f2a-43d3-477e-e980-e35b5bfa45de"
      },
      "source": [
        "#2. 呈上題，將array中體重(weight)數據集取出算出全部平均體重\r\n",
        "avr_weight = array['weight'].mean()\r\n",
        "print(avr_weight)"
      ],
      "execution_count": 16,
      "outputs": [
        {
          "output_type": "stream",
          "text": [
            "69.8375\n"
          ],
          "name": "stdout"
        }
      ]
    },
    {
      "cell_type": "code",
      "metadata": {
        "id": "_LhLg8RiWwEm",
        "colab": {
          "base_uri": "https://localhost:8080/"
        },
        "outputId": "3f7085df-9705-45bd-e13a-301586562cc8"
      },
      "source": [
        "#3. 呈上題，進一步算出男生(sex欄位是boy)平均體重\r\n",
        "avr_boy_weight = array[array['sex'] == 'boy']['weight'].mean()\r\n",
        "print(avr_boy_weight)"
      ],
      "execution_count": 18,
      "outputs": [
        {
          "output_type": "stream",
          "text": [
            "77.18333\n"
          ],
          "name": "stdout"
        }
      ]
    },
    {
      "cell_type": "code",
      "metadata": {
        "id": "f_J05IPxX6fg",
        "colab": {
          "base_uri": "https://localhost:8080/"
        },
        "outputId": "163a6228-dd8a-45f6-92c8-74ced6ba9edd"
      },
      "source": [
        "#3. 呈上題，進一步算出女生(sex欄位是girl)平均體重\r\n",
        "avr_gril_weight = array[array['sex'] == 'girl']['weight'].mean()\r\n",
        "print(avr_gril_weight)"
      ],
      "execution_count": 19,
      "outputs": [
        {
          "output_type": "stream",
          "text": [
            "47.8\n"
          ],
          "name": "stdout"
        }
      ]
    },
    {
      "cell_type": "code",
      "metadata": {
        "id": "eX63rZnX3d5O"
      },
      "source": [
        ""
      ],
      "execution_count": null,
      "outputs": []
    }
  ]
}