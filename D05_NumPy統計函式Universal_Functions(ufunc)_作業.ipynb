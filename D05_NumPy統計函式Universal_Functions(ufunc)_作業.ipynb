{
  "nbformat": 4,
  "nbformat_minor": 0,
  "metadata": {
    "colab": {
      "name": "D05_NumPy統計函式Universal_Functions(ufunc)_作業.ipynb",
      "provenance": [],
      "collapsed_sections": []
    },
    "kernelspec": {
      "name": "python3",
      "display_name": "Python 3"
    }
  },
  "cells": [
    {
      "cell_type": "markdown",
      "metadata": {
        "id": "oef8c2jr-PZY"
      },
      "source": [
        "作業目標<br>\r\n",
        "計算有缺失值的資料，統計量實作<br>\r\n",
        "作業重點<br>\r\n",
        "當遇到缺失值有函式可以處理，不須額外寫程式刪除<br>\r\n",
        "計算統計量時不能出現缺失值"
      ]
    },
    {
      "cell_type": "markdown",
      "metadata": {
        "id": "4YgL8NF4-Ru3"
      },
      "source": [
        "題目:<br>\r\n",
        "english_score = np.array([55,89,76,65,48,70])<br>\r\n",
        "math_score = np.array([60,85,60,68,np.nan,60])<br>\r\n",
        "chinese_score = np.array([65,90,82,72,66,77])<br>\r\n",
        "上3列共六位同學的英文、數學、國文成績，第一個元素代表第一位同學，舉例第一位同學英文55分、數學60分、國文65分，今天第五位同學因某原因沒來考試，導致數學成績缺值，運用上列數據回答下列問題。<br>\r\n",
        "1. 請計算各科成績平均、最大值、最小值、標準差，其中數學缺一筆資料可忽略?\r\n",
        "2. 第五位同學補考數學後成績為55，請計算補考後數學成績平均、最大值、最小值、標準差?\r\n",
        "3. 用補考後資料找出與國文成績相關係數最高的學科?"
      ]
    },
    {
      "cell_type": "code",
      "metadata": {
        "id": "QwsKU8qO-RK7"
      },
      "source": [
        "import numpy as np"
      ],
      "execution_count": null,
      "outputs": []
    },
    {
      "cell_type": "code",
      "metadata": {
        "id": "B5BqDQAe_czh"
      },
      "source": [
        "english_score = np.array([55,89,76,65,48,70])\r\n",
        "math_score = np.array([60,85,60,68,np.nan,60])\r\n",
        "chinese_score = np.array([65,90,82,72,66,77])"
      ],
      "execution_count": null,
      "outputs": []
    },
    {
      "cell_type": "code",
      "metadata": {
        "id": "K3tUA6u9aI3N",
        "colab": {
          "base_uri": "https://localhost:8080/"
        },
        "outputId": "9bf96f7a-d51f-46c8-a623-6bc6e43168aa"
      },
      "source": [
        "#1. 請計算各科成績平均、最大值、最小值、標準差，其中數學缺一筆資料可忽略?\n",
        "print('-'*30)\n",
        "print(f'english_average = {np.nanmean(english_score)}')\n",
        "print(f'english_max = {np.nanmax(english_score)}')\n",
        "print(f'english_min = {np.nanmin(english_score)}')\n",
        "print(f'english_std = {np.nanstd(english_score)}')\n",
        "print('-'*30)\n",
        "print(f'math_average = {np.nanmean(math_score)}')\n",
        "print(f'math_max = {np.nanmax(math_score)}')\n",
        "print(f'math_min = {np.nanmin(math_score)}')\n",
        "print(f'math_std = {np.nanstd(math_score)}')\n",
        "print('-'*30)\n",
        "print(f'chinese_average = {np.nanmean(chinese_score)}')\n",
        "print(f'chinese_max = {np.nanmax(chinese_score)}')\n",
        "print(f'chinese_min = {np.nanmin(chinese_score)}')\n",
        "print(f'chinese_std = {np.nanstd(chinese_score)}')"
      ],
      "execution_count": 10,
      "outputs": [
        {
          "output_type": "stream",
          "text": [
            "------------------------------\n",
            "english_average = 67.16666666666667\n",
            "english_max = 89\n",
            "english_min = 48\n",
            "english_std = 13.433995020924426\n",
            "------------------------------\n",
            "math_average = 66.6\n",
            "math_max = 85.0\n",
            "math_min = 60.0\n",
            "math_std = 9.707728879609279\n",
            "------------------------------\n",
            "chinese_average = 75.33333333333333\n",
            "chinese_max = 90\n",
            "chinese_min = 65\n",
            "chinese_std = 8.825468196582484\n"
          ],
          "name": "stdout"
        }
      ]
    },
    {
      "cell_type": "markdown",
      "metadata": {
        "id": "MY-YcJTbXbsx"
      },
      "source": [
        ""
      ]
    },
    {
      "cell_type": "code",
      "metadata": {
        "id": "mXjDzvSrbLlf",
        "colab": {
          "base_uri": "https://localhost:8080/"
        },
        "outputId": "4b61d901-02eb-428e-f134-21e307df223b"
      },
      "source": [
        "#2. 第五位同學補考數學後成績為55，請計算補考後數學成績平均、最大值、最小值、標準差?\r\n",
        "math_score[4] = 55\r\n",
        "print(f'math_score = {math_score}')\r\n",
        "print('-'*30)\r\n",
        "print(f'math_average = {np.nanmean(math_score)}')\r\n",
        "print(f'math_max = {np.nanmax(math_score)}')\r\n",
        "print(f'math_min = {np.nanmin(math_score)}')\r\n",
        "print(f'math_std = {np.nanstd(math_score)}')"
      ],
      "execution_count": 12,
      "outputs": [
        {
          "output_type": "stream",
          "text": [
            "math_score = [60. 85. 60. 68. 55. 60.]\n",
            "------------------------------\n",
            "math_average = 64.66666666666667\n",
            "math_max = 85.0\n",
            "math_min = 55.0\n",
            "math_std = 9.860132971832694\n"
          ],
          "name": "stdout"
        }
      ]
    },
    {
      "cell_type": "code",
      "metadata": {
        "id": "SaGolKx0cKoU",
        "colab": {
          "base_uri": "https://localhost:8080/"
        },
        "outputId": "66acbbfc-f489-4fb6-d429-bfe46678e52d"
      },
      "source": [
        "#3. 用補考後資料找出與國文成績相關係數最高的學科?\r\n",
        "chinese_corr_english = np.corrcoef(chinese_score, english_score)\r\n",
        "print(f'chinese_corr_english =\\n{chinese_corr_english}')\r\n",
        "chinese_corr_math = np.corrcoef(chinese_score, math_score)\r\n",
        "print(f'chinese_corr_math =\\n{chinese_corr_math}')\r\n",
        "\r\n",
        "if chinese_corr_english.min() > chinese_corr_math.min():\r\n",
        "  print('與國文成績相關係數最高的學科是「英文」')\r\n",
        "else:\r\n",
        "  print('與國文成績相關係數最高的學科是「數學」')"
      ],
      "execution_count": 19,
      "outputs": [
        {
          "output_type": "stream",
          "text": [
            "chinese_corr_english =\n",
            "[[1.         0.97792828]\n",
            " [0.97792828 1.        ]]\n",
            "chinese_corr_math =\n",
            "[[1.         0.74056803]\n",
            " [0.74056803 1.        ]]\n",
            "與國文成績相關係數最高的學科是「英文」\n"
          ],
          "name": "stdout"
        }
      ]
    },
    {
      "cell_type": "code",
      "metadata": {
        "id": "fTNlLZ9Pzyiy"
      },
      "source": [
        ""
      ],
      "execution_count": null,
      "outputs": []
    }
  ]
}