{
  "nbformat": 4,
  "nbformat_minor": 0,
  "metadata": {
    "colab": {
      "name": "D15_pandas_Split-Apply-Combine_Strategy_作業.ipynb",
      "provenance": [],
      "collapsed_sections": []
    },
    "kernelspec": {
      "name": "python3",
      "display_name": "Python 3"
    }
  },
  "cells": [
    {
      "cell_type": "markdown",
      "metadata": {
        "id": "WpY62-EDcs8F"
      },
      "source": [
        "作業目標:<br>\r\n",
        "1. 熟悉分組計算"
      ]
    },
    {
      "cell_type": "markdown",
      "metadata": {
        "id": "pXYQs1_9a6He"
      },
      "source": [
        "作業重點: <br>\r\n",
        "1. 分組計算也可以加入apply自定義的函數"
      ]
    },
    {
      "cell_type": "markdown",
      "metadata": {
        "id": "vysasgqxcupS"
      },
      "source": [
        "題目 : 運用下列分數資料分析<br>\r\n",
        "1. 找出全年級各科成績最高分與最低分?<br>\r\n",
        "2. 找出數學班平均最高的班級?<br>\r\n",
        "3. 分析全校女生與男生國文平均差幾分?<br>\r\n",
        "score_df = pd.DataFrame([[1,50,80,70,'boy',1],[2,60,45,50,'boy',2],[3,98,43,55,'boy',1],[4,70,69,89,'boy',2],[5,56,79,60,'girl',1],[6,60,68,55,'girl',2],[7,45,70,77,'girl',1],[8,55,77,76,'girl',2],[9,25,57,60,'girl',1],[10,88,40,43,'girl',3],[11,25,60,45,'boy',3],[12,80,60,23,'boy',3],[13,20,90,66,'girl',3],[14,50,50,50,'girl',3],[15,89,67,77,'girl',3]],columns=['student_id','math_score','english_score','chinese_score','sex','class'])"
      ]
    },
    {
      "cell_type": "code",
      "metadata": {
        "colab": {
          "base_uri": "https://localhost:8080/",
          "height": 514
        },
        "id": "3WzHnm4zct7L",
        "outputId": "d8fac893-bce3-48c9-9dbf-aec757409c95"
      },
      "source": [
        "import pandas as pd\r\n",
        "score_df = pd.DataFrame([[1,50,80,70,'boy',1], \r\n",
        "              [2,60,45,50,'boy',2],\r\n",
        "              [3,98,43,55,'boy',1],\r\n",
        "              [4,70,69,89,'boy',2],\r\n",
        "              [5,56,79,60,'girl',1],\r\n",
        "              [6,60,68,55,'girl',2],\r\n",
        "              [7,45,70,77,'girl',1],\r\n",
        "              [8,55,77,76,'girl',2],\r\n",
        "              [9,25,57,60,'girl',1],\r\n",
        "              [10,88,40,43,'girl',3],\r\n",
        "              [11,25,60,45,'boy',3],\r\n",
        "              [12,80,60,23,'boy',3],\r\n",
        "              [13,20,90,66,'girl',3],\r\n",
        "              [14,50,50,50,'girl',3],\r\n",
        "              [15,89,67,77,'girl',3]],columns=['student_id','math_score','english_score','chinese_score','sex','class'])\r\n",
        "score_df"
      ],
      "execution_count": 1,
      "outputs": [
        {
          "output_type": "execute_result",
          "data": {
            "text/html": [
              "<div>\n",
              "<style scoped>\n",
              "    .dataframe tbody tr th:only-of-type {\n",
              "        vertical-align: middle;\n",
              "    }\n",
              "\n",
              "    .dataframe tbody tr th {\n",
              "        vertical-align: top;\n",
              "    }\n",
              "\n",
              "    .dataframe thead th {\n",
              "        text-align: right;\n",
              "    }\n",
              "</style>\n",
              "<table border=\"1\" class=\"dataframe\">\n",
              "  <thead>\n",
              "    <tr style=\"text-align: right;\">\n",
              "      <th></th>\n",
              "      <th>student_id</th>\n",
              "      <th>math_score</th>\n",
              "      <th>english_score</th>\n",
              "      <th>chinese_score</th>\n",
              "      <th>sex</th>\n",
              "      <th>class</th>\n",
              "    </tr>\n",
              "  </thead>\n",
              "  <tbody>\n",
              "    <tr>\n",
              "      <th>0</th>\n",
              "      <td>1</td>\n",
              "      <td>50</td>\n",
              "      <td>80</td>\n",
              "      <td>70</td>\n",
              "      <td>boy</td>\n",
              "      <td>1</td>\n",
              "    </tr>\n",
              "    <tr>\n",
              "      <th>1</th>\n",
              "      <td>2</td>\n",
              "      <td>60</td>\n",
              "      <td>45</td>\n",
              "      <td>50</td>\n",
              "      <td>boy</td>\n",
              "      <td>2</td>\n",
              "    </tr>\n",
              "    <tr>\n",
              "      <th>2</th>\n",
              "      <td>3</td>\n",
              "      <td>98</td>\n",
              "      <td>43</td>\n",
              "      <td>55</td>\n",
              "      <td>boy</td>\n",
              "      <td>1</td>\n",
              "    </tr>\n",
              "    <tr>\n",
              "      <th>3</th>\n",
              "      <td>4</td>\n",
              "      <td>70</td>\n",
              "      <td>69</td>\n",
              "      <td>89</td>\n",
              "      <td>boy</td>\n",
              "      <td>2</td>\n",
              "    </tr>\n",
              "    <tr>\n",
              "      <th>4</th>\n",
              "      <td>5</td>\n",
              "      <td>56</td>\n",
              "      <td>79</td>\n",
              "      <td>60</td>\n",
              "      <td>girl</td>\n",
              "      <td>1</td>\n",
              "    </tr>\n",
              "    <tr>\n",
              "      <th>5</th>\n",
              "      <td>6</td>\n",
              "      <td>60</td>\n",
              "      <td>68</td>\n",
              "      <td>55</td>\n",
              "      <td>girl</td>\n",
              "      <td>2</td>\n",
              "    </tr>\n",
              "    <tr>\n",
              "      <th>6</th>\n",
              "      <td>7</td>\n",
              "      <td>45</td>\n",
              "      <td>70</td>\n",
              "      <td>77</td>\n",
              "      <td>girl</td>\n",
              "      <td>1</td>\n",
              "    </tr>\n",
              "    <tr>\n",
              "      <th>7</th>\n",
              "      <td>8</td>\n",
              "      <td>55</td>\n",
              "      <td>77</td>\n",
              "      <td>76</td>\n",
              "      <td>girl</td>\n",
              "      <td>2</td>\n",
              "    </tr>\n",
              "    <tr>\n",
              "      <th>8</th>\n",
              "      <td>9</td>\n",
              "      <td>25</td>\n",
              "      <td>57</td>\n",
              "      <td>60</td>\n",
              "      <td>girl</td>\n",
              "      <td>1</td>\n",
              "    </tr>\n",
              "    <tr>\n",
              "      <th>9</th>\n",
              "      <td>10</td>\n",
              "      <td>88</td>\n",
              "      <td>40</td>\n",
              "      <td>43</td>\n",
              "      <td>girl</td>\n",
              "      <td>3</td>\n",
              "    </tr>\n",
              "    <tr>\n",
              "      <th>10</th>\n",
              "      <td>11</td>\n",
              "      <td>25</td>\n",
              "      <td>60</td>\n",
              "      <td>45</td>\n",
              "      <td>boy</td>\n",
              "      <td>3</td>\n",
              "    </tr>\n",
              "    <tr>\n",
              "      <th>11</th>\n",
              "      <td>12</td>\n",
              "      <td>80</td>\n",
              "      <td>60</td>\n",
              "      <td>23</td>\n",
              "      <td>boy</td>\n",
              "      <td>3</td>\n",
              "    </tr>\n",
              "    <tr>\n",
              "      <th>12</th>\n",
              "      <td>13</td>\n",
              "      <td>20</td>\n",
              "      <td>90</td>\n",
              "      <td>66</td>\n",
              "      <td>girl</td>\n",
              "      <td>3</td>\n",
              "    </tr>\n",
              "    <tr>\n",
              "      <th>13</th>\n",
              "      <td>14</td>\n",
              "      <td>50</td>\n",
              "      <td>50</td>\n",
              "      <td>50</td>\n",
              "      <td>girl</td>\n",
              "      <td>3</td>\n",
              "    </tr>\n",
              "    <tr>\n",
              "      <th>14</th>\n",
              "      <td>15</td>\n",
              "      <td>89</td>\n",
              "      <td>67</td>\n",
              "      <td>77</td>\n",
              "      <td>girl</td>\n",
              "      <td>3</td>\n",
              "    </tr>\n",
              "  </tbody>\n",
              "</table>\n",
              "</div>"
            ],
            "text/plain": [
              "    student_id  math_score  english_score  chinese_score   sex  class\n",
              "0            1          50             80             70   boy      1\n",
              "1            2          60             45             50   boy      2\n",
              "2            3          98             43             55   boy      1\n",
              "3            4          70             69             89   boy      2\n",
              "4            5          56             79             60  girl      1\n",
              "5            6          60             68             55  girl      2\n",
              "6            7          45             70             77  girl      1\n",
              "7            8          55             77             76  girl      2\n",
              "8            9          25             57             60  girl      1\n",
              "9           10          88             40             43  girl      3\n",
              "10          11          25             60             45   boy      3\n",
              "11          12          80             60             23   boy      3\n",
              "12          13          20             90             66  girl      3\n",
              "13          14          50             50             50  girl      3\n",
              "14          15          89             67             77  girl      3"
            ]
          },
          "metadata": {
            "tags": []
          },
          "execution_count": 1
        }
      ]
    },
    {
      "cell_type": "code",
      "metadata": {
        "id": "Zfs1uSNPfNBL",
        "colab": {
          "base_uri": "https://localhost:8080/",
          "height": 111
        },
        "outputId": "1b696ecb-d56d-49ef-9ba3-cf3581a236a8"
      },
      "source": [
        "#1.找出全年級各科成績最高分與最低分?\r\n",
        "score_df.loc[:,['math_score','english_score','chinese_score']].agg(['max','min'])"
      ],
      "execution_count": 15,
      "outputs": [
        {
          "output_type": "execute_result",
          "data": {
            "text/html": [
              "<div>\n",
              "<style scoped>\n",
              "    .dataframe tbody tr th:only-of-type {\n",
              "        vertical-align: middle;\n",
              "    }\n",
              "\n",
              "    .dataframe tbody tr th {\n",
              "        vertical-align: top;\n",
              "    }\n",
              "\n",
              "    .dataframe thead th {\n",
              "        text-align: right;\n",
              "    }\n",
              "</style>\n",
              "<table border=\"1\" class=\"dataframe\">\n",
              "  <thead>\n",
              "    <tr style=\"text-align: right;\">\n",
              "      <th></th>\n",
              "      <th>math_score</th>\n",
              "      <th>english_score</th>\n",
              "      <th>chinese_score</th>\n",
              "    </tr>\n",
              "  </thead>\n",
              "  <tbody>\n",
              "    <tr>\n",
              "      <th>max</th>\n",
              "      <td>98</td>\n",
              "      <td>90</td>\n",
              "      <td>89</td>\n",
              "    </tr>\n",
              "    <tr>\n",
              "      <th>min</th>\n",
              "      <td>20</td>\n",
              "      <td>40</td>\n",
              "      <td>23</td>\n",
              "    </tr>\n",
              "  </tbody>\n",
              "</table>\n",
              "</div>"
            ],
            "text/plain": [
              "     math_score  english_score  chinese_score\n",
              "max          98             90             89\n",
              "min          20             40             23"
            ]
          },
          "metadata": {
            "tags": []
          },
          "execution_count": 15
        }
      ]
    },
    {
      "cell_type": "code",
      "metadata": {
        "id": "iZdLLEzYfPnW",
        "colab": {
          "base_uri": "https://localhost:8080/",
          "height": 173
        },
        "outputId": "f8cc069d-1490-4525-a6e2-10eb0e0af8e9"
      },
      "source": [
        "#2.找出數學班平均最高的班級?\r\n",
        "score_df.loc[:,['class','math_score']].groupby('class').mean()\r\n",
        "#最高是class2"
      ],
      "execution_count": 22,
      "outputs": [
        {
          "output_type": "execute_result",
          "data": {
            "text/html": [
              "<div>\n",
              "<style scoped>\n",
              "    .dataframe tbody tr th:only-of-type {\n",
              "        vertical-align: middle;\n",
              "    }\n",
              "\n",
              "    .dataframe tbody tr th {\n",
              "        vertical-align: top;\n",
              "    }\n",
              "\n",
              "    .dataframe thead th {\n",
              "        text-align: right;\n",
              "    }\n",
              "</style>\n",
              "<table border=\"1\" class=\"dataframe\">\n",
              "  <thead>\n",
              "    <tr style=\"text-align: right;\">\n",
              "      <th></th>\n",
              "      <th>math_score</th>\n",
              "    </tr>\n",
              "    <tr>\n",
              "      <th>class</th>\n",
              "      <th></th>\n",
              "    </tr>\n",
              "  </thead>\n",
              "  <tbody>\n",
              "    <tr>\n",
              "      <th>1</th>\n",
              "      <td>54.800000</td>\n",
              "    </tr>\n",
              "    <tr>\n",
              "      <th>2</th>\n",
              "      <td>61.250000</td>\n",
              "    </tr>\n",
              "    <tr>\n",
              "      <th>3</th>\n",
              "      <td>58.666667</td>\n",
              "    </tr>\n",
              "  </tbody>\n",
              "</table>\n",
              "</div>"
            ],
            "text/plain": [
              "       math_score\n",
              "class            \n",
              "1       54.800000\n",
              "2       61.250000\n",
              "3       58.666667"
            ]
          },
          "metadata": {
            "tags": []
          },
          "execution_count": 22
        }
      ]
    },
    {
      "cell_type": "code",
      "metadata": {
        "id": "CWxb-2TqfbNK",
        "colab": {
          "base_uri": "https://localhost:8080/"
        },
        "outputId": "6d178ccd-7642-446b-8e49-5524865bf351"
      },
      "source": [
        "#3.分析全校女生與男生國文平均差幾分?\r\n",
        "df = score_df.loc[:,['sex','chinese_score']].groupby('sex').mean()\r\n",
        "print(df)\r\n",
        "sub = abs(df.loc['girl'] - df.loc['boy'])\r\n",
        "print(f'全校女生與男生國文平均差{sub[0]}分')"
      ],
      "execution_count": 35,
      "outputs": [
        {
          "output_type": "stream",
          "text": [
            "      chinese_score\n",
            "sex                \n",
            "boy       55.333333\n",
            "girl      62.666667\n",
            "全校女生與男生國文平均差7.333333333333329分\n"
          ],
          "name": "stdout"
        }
      ]
    },
    {
      "cell_type": "code",
      "metadata": {
        "id": "aBC5K-q6jFvb"
      },
      "source": [
        ""
      ],
      "execution_count": null,
      "outputs": []
    }
  ]
}